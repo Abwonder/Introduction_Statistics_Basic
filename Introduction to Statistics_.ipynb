{
 "cells": [
  {
   "cell_type": "markdown",
   "id": "3c4f921f",
   "metadata": {},
   "source": [
    "### Statistics Assignment"
   ]
  },
  {
   "cell_type": "markdown",
   "id": "28af8272",
   "metadata": {},
   "source": [
    "### Question 1\n",
    "Q1. What is Statistics?\n",
    "\n",
    "Statistics is the science of gathering, collecting, organizing and analysing the obtain data."
   ]
  },
  {
   "cell_type": "markdown",
   "id": "966c58a6",
   "metadata": {},
   "source": [
    "### Question 2\n",
    "\n",
    "Q2. Define the different types of statistics and give an example of when each type might be used.\n",
    "\n",
    "Types of Statistics\n",
    "\n",
    "1. Descriptive statistics\n",
    "2. inferential statistics\n",
    "\n",
    "__Descriptive statistics__ summarize data using measures such as mean (average), variance, skewness, and kurtosis \n",
    "\n",
    "Eg: Students test scores --- can be explaing using descriptive statistics to find summaries like average (mean), mode, median and measure likes variance, std. Graphs too are used in this type of statistics.\n",
    "\n",
    "\n",
    "__Inferential statistics__ use data from a sample to make conclusions about a larger population \n",
    "\n",
    "E.g if you conduct a survey on a sample of people to find out their opinions on a certain topic, you could use inferential statistics to make conclusions about the opinions of the entire population. simply means making inference from samples of a population.\n"
   ]
  },
  {
   "cell_type": "markdown",
   "id": "49f2c30b",
   "metadata": {},
   "source": [
    "### Question 3\n",
    "\n",
    "Q3. What are the different types of data and how do they differ from each other? Provide an example of\n",
    "each type of data.\n",
    "\n",
    "Below are the types of data:\n",
    "\n",
    "__Discrete__: is a type of numerical data that represents a count or a specific value. Unlike continuous data, which can take on any value within a given range, discrete data can only take on specific values. Discrete data is typically represented using integers, and it is often used to represent whole numbers or counts of objects.\n",
    "\n",
    "examples:\n",
    "a. Number of people in the a room can only be whole number, for example 20 people in a room\n",
    "b. Number of book on a shelp, is alway count and can not be fraction value\n",
    "c. number of car in a garage\n",
    "etc. discrete are always count and whole numbers\n",
    "\n",
    "\n",
    "__Continuous__: is a type of numerical data that can take on any value within a certain range or interval. Unlike discrete data, which is limited to specific values, continuous data can take on any value within a continuous range. It is often measured using a scale, and it is typically represented using real numbers or decimals.\n",
    "\n",
    "examples:\n",
    "a. Temperature: is an example of continuous data which reading takes any value within the scale of measurement such as 72, 72.5, or 71.8 degrees.\n",
    "b. Weight: this can also take any value within the range of measuring scale, eg 1kg, 1.53k and 149.5\n",
    "c. Time: this also take range of values that are not whole number, for example 10:32:15, and could be in minutes, seconds, milliseconds.\n",
    "d. Distance: this also falls under this type of data type\n",
    "\n",
    "\n",
    "__Norminal__: is a categorical data type that represents discrete values without any order or ranking. It is often used to describe characteristics such as gender, race, religion, or political affiliation. Nominal data cannot be measured on a numerical scale, and the values cannot be ranked or ordered in any meaningful way. Nominal data is important in many fields, including social sciences, marketing, and politics.\n",
    "\n",
    "example:\n",
    "a. Gender: Male and Female are examples of nominal data. There is no inherent order or ranking to these values, they simply represent two different categories.\n",
    "b. Religion: Christianity, Islam, Buddhism, Judaism, and Hinduism are examples of nominal data. There is no inherent order or ranking to these values, they simply represent different categories.\n",
    "c. Country of origin: United States, Canada, Mexico, and Brazil are examples of nominal data. There is no inherent order or ranking to these values, they simply represent different categories.\n",
    "d. Marital status: Married, single, divorced, and widowed are examples of nominal data. There is no inherent order or ranking to these values, they simply represent different categories.\n",
    "\n",
    "\n",
    "__Ordinal__: is a categorical data type that represents discrete values with a natural order or ranking. It is often used to describe characteristics such as levels of education, income brackets, or customer satisfaction levels. Unlike nominal data, ordinal data can be ranked or ordered in a meaningful way, but the differences between the values cannot be measured on a consistent scale.\n",
    "\n",
    "example:\n",
    "a. Education level: Elementary school, high school, associate's degree, bachelor's degree, master's degree, and doctoral degree are examples of ordinal data. The values can be ranked in order of increasing education level, but the differences between the values cannot be measured on a consistent scale.\n",
    "b. Star ratings: One star, two stars, three stars, four stars, and five stars are examples of ordinal data. The values can be ranked in order of increasing quality or satisfaction level, but the differences between the values cannot be measured on a consistent scale.\n",
    "c. Health status: Excellent, good, fair, and poor are examples of ordinal data. The values can be ranked in order of increasing health status, but the differences between the values cannot be measured on a consistent scale.\n",
    "\n",
    "\n"
   ]
  },
  {
   "cell_type": "markdown",
   "id": "86c96316",
   "metadata": {},
   "source": [
    "### Question 4\n",
    "\n",
    "Q4. Categorise the following datasets with respect to quantitative and qualitative data types:\n",
    "(i) Grading in exam: A+, A, B+, B, C+, C, D, E\n",
    "(ii) Colour of mangoes: yellow, green, orange, red\n",
    "(iii) Height data of a class: [178.9, 179, 179.5, 176, 177.2, 178.3, 175.8,...]\n",
    "(iv) Number of mangoes exported by a farm: [500, 600, 478, 672, ...]\n",
    "\n",
    "Answer:\n",
    "\n",
    "Quantitative\n",
    "(iii) Height data of a class: [178.9, 179, 179.5, 176, 177.2, 178.3, 175.8,...]\n",
    "(iv) Number of mangoes exported by a farm: [500, 600, 478, 672, ...]\n",
    "\n",
    "Qualitative\n",
    "(i) Grading in exam: A+, A, B+, B, C+, C, D, E\n",
    "(ii) Colour of mangoes: yellow, green, orange, red"
   ]
  },
  {
   "cell_type": "markdown",
   "id": "7a51548a",
   "metadata": {},
   "source": [
    "### Question 5\n",
    "Q5. Explain the concept of levels of measurement and give an example of a variable for each level.\n",
    "\n",
    "Answer:\n",
    "Level of measurement is the same as scale of measurement and it is a way of to categorize variables based on the nature and characteristics of the data. There are four main levels of measurement: nominal, ordinal, interval, and ratio.\n",
    "\n",
    "Nominal level: At this level of measurement, variables are characterized by categories without any inherent order or ranking. Examples of variables at the nominal level are gender, race, religion, and political affiliation.\n",
    "\n",
    "Ordinal level: At this level of measurement, variables are characterized by categories with a natural order or ranking, but the differences between the categories cannot be measured on a consistent scale. Examples of variables at the ordinal level are education level, income brackets, and customer satisfaction levels.\n",
    "\n",
    "Interval level: At this level of measurement, variables are characterized by continuous values with equal intervals between them, but there is no true zero point. Examples of variables at the interval level are temperature measured in Celsius or Fahrenheit, dates measured in years or months, and IQ scores.\n",
    "\n",
    "Ratio level: At this level of measurement, variables are characterized by continuous values with equal intervals between them and a true zero point. Examples of variables at the ratio level are height, weight, distance, and time.\n",
    "\n",
    "Here are some examples of variables at each level of measurement:\n",
    "\n",
    "Nominal level: Eye color (blue, brown, green), Country of origin (USA, Canada, Mexico), Blood type (A, B, AB, O)\n",
    "\n",
    "Ordinal level: Education level (elementary school, high school, associate's degree, bachelor's degree, master's degree, doctoral degree), Income brackets (less than $25,000, $25,000 to $50,000, $50,000 to $75,000, $75,000 to $100,000, over $100,000), Star ratings (one star, two stars, three stars, four stars, five stars)\n",
    "\n",
    "Interval level: Temperature measured in Celsius or Fahrenheit, Dates measured in years or months, IQ scores.\n",
    "\n",
    "Ratio level: Height, weight, distance, time, age.\n",
    "\n"
   ]
  },
  {
   "cell_type": "markdown",
   "id": "1cb1159a",
   "metadata": {},
   "source": [
    "### Question 6\n",
    "\n",
    "Q6. Why is it important to understand the level of measurement when analyzing data? Provide an\n",
    "example to illustrate your answer.\n",
    "\n",
    "Yes, \n",
    "\n",
    "Understanding the level of measurement is crucial when analyzing data because it determines the statistical techniques that can be used and the inferences that can be made from the data.\n",
    "\n",
    "Illustrating with example, when analyzing data on the type of cars people own, the nominal level of measurement would be appropriate. Nominal data consists of categories that do not have any inherent order or hierarchy, such as car brands or colors. We could calculate the frequency and percentage of each car brand or color, but we could not use numerical operations such as addition, subtraction, or multiplication.\n",
    "\n",
    "In contrast, if we are analyzing data on the satisfaction levels of customers with a particular product or service, the ordinal level of measurement would be more appropriate. Ordinal data has categories that can be ranked in order, but the distance between each category is not equal. For example, we could ask customers to rate their satisfaction on a scale of 1 to 5, with 1 being very unsatisfied and 5 being very satisfied. We could calculate the median satisfaction level, but we could not assume that the difference between a rating of 1 and 2 is the same as the difference between a rating of 3 and 4.\n",
    "\n",
    "If we were analyzing data on the temperature readings in Celsius or Fahrenheit, the interval or ratio level of measurement would be appropriate. Interval data has categories that can be ranked in order, and the distance between each category is equal, but there is no true zero point. For example, we could calculate the mean temperature over a certain period of time, but we could not say that one temperature reading is twice as hot as another.\n",
    "\n",
    "Finally, ratio data has all the characteristics of interval data but also has a true zero point, which allows for meaningful ratios between measurements. An example of ratio data could be the weight of a person in kilograms or pounds.\n",
    "\n",
    "In summary, understanding the level of measurement is essential when analyzing data because it guides the appropriate statistical techniques that can be used and the inferences that can be drawn from the data."
   ]
  },
  {
   "cell_type": "markdown",
   "id": "f4e4eb88",
   "metadata": {},
   "source": [
    "### Questions 7\n",
    "Q7. How nominal data type is different from ordinal data type.\n",
    "\n",
    "Nominal data only represents different categories or classes that cannot be ranked, while ordinal data represents categories that can be ranked or ordered but the distance between the categories is not necessarily the same. The appropriate statistical analyses for nominal data and ordinal data are also different, with nominal data typically requiring frequency tables and chi-square tests and ordinal data typically requiring the use of measures of central tendency such as the median or rank correlation coefficients.\n"
   ]
  },
  {
   "cell_type": "markdown",
   "id": "dd2abc34",
   "metadata": {},
   "source": [
    "### Question 8\n",
    "\n",
    "Q8. Which type of plot can be used to display data in terms of range?\n",
    "\n",
    "A box plot, also known as a box-and-whisker plot, is a type of plot that can be used to display data in terms of range. The box plot provides a visual representation of the distribution of a dataset by displaying the median, quartiles, and minimum and maximum values.\n",
    "\n",
    "The box in the box plot represents the middle 50% of the data, or the interquartile range (IQR), with the median displayed as a horizontal line inside the box. The whiskers extending from the box represent the minimum and maximum values, with outliers displayed as individual points. The length of the whiskers can vary depending on the specific implementation, but they generally represent 1.5 times the IQR.\n",
    "\n",
    "By displaying the range of the data in a clear and concise manner, box plots can be useful for comparing datasets and identifying potential outliers. Box plots can also be used to compare multiple datasets side by side, which can aid in data analysis and decision making.\n",
    "\n",
    "Overall, the box plot is a versatile and informative type of plot that can be used to display data in terms of range, making it a valuable tool for data analysis and visualization."
   ]
  },
  {
   "cell_type": "markdown",
   "id": "00dd4490",
   "metadata": {},
   "source": [
    "### Question 9\n",
    "\n",
    "Q8. Describe the difference between descriptive and inferential statistics. Give an example of each\n",
    "type of statistics and explain how they are used.\n",
    "\n",
    "\n",
    "Descriptive statistics and inferential statistics are two branches of statistics that are used to analyze and interpret data in different ways. Descriptive statistics summarize and describe data, while inferential statistics make inferences or predictions about a population based on a sample of data.\n",
    "\n",
    "Descriptive statistics are used to summarize and describe the characteristics of a dataset. They are used to analyze the data that has been collected and provide meaningful information about the data in a more manageable and understandable form. Descriptive statistics can be used to describe the central tendency of the data (mean, median, mode), the spread of the data (range, standard deviation, variance), and the shape of the distribution (skewed, symmetric, or bimodal). An example of descriptive statistics would be calculating the mean, median, and standard deviation of a dataset of exam scores.\n",
    "\n",
    "Inferential statistics, on the other hand, are used to make predictions or draw inferences about a population based on a sample of data. They allow researchers to draw conclusions about the characteristics of the population based on the characteristics of the sample. Inferential statistics use probability theory to estimate the likelihood of a particular result occurring by chance. An example of inferential statistics would be using a hypothesis test to determine if the difference between two groups is statistically significant, which would allow us to conclude that the difference is not likely due to chance.\n",
    "\n",
    "To summarize, descriptive statistics are used to summarize and describe data, while inferential statistics are used to make predictions or draw inferences about a population based on a sample of data. Both types of statistics are important in data analysis and can provide valuable insights into the characteristics of a dataset and the underlying population."
   ]
  },
  {
   "cell_type": "markdown",
   "id": "fee7210d",
   "metadata": {},
   "source": [
    "### Question 10\n",
    "\n",
    "\n",
    "Q10. What are some common measures of central tendency and variability used in statistics? Explain\n",
    "how each measure can be used to describe a dataset.\n",
    "\n",
    "\n",
    "Measures of central tendency and variability are important statistical tools that are used to describe the characteristics of a dataset. Measures of central tendency describe the central or typical value of a dataset, while measures of variability describe how spread out or dispersed the data is. Here are some common measures of central tendency and variability used in statistics:\n",
    "\n",
    "Measures of Central Tendency:\n",
    "\n",
    "Mean: The mean is the arithmetic average of a dataset and is calculated by adding up all the values and dividing by the number of values. The mean is commonly used to describe the center of a symmetric dataset.\n",
    "\n",
    "Median: The median is the middle value of a dataset when it is arranged in order from lowest to highest (or highest to lowest). The median is used to describe the center of a dataset that is skewed or has outliers.\n",
    "\n",
    "Mode: The mode is the most frequently occurring value in a dataset. The mode is used to describe the most common value in a dataset.\n",
    "\n",
    "Measures of Variability:\n",
    "\n",
    "Range: The range is the difference between the largest and smallest values in a dataset. The range is used to describe how spread out the data is from the smallest to largest value.\n",
    "\n",
    "Standard Deviation: The standard deviation is a measure of the average amount of deviation from the mean in a dataset. The standard deviation is used to describe how much the data varies from the mean and is a measure of the spread of the data.\n",
    "\n",
    "Variance: The variance is the average of the squared differences from the mean in a dataset. The variance is used to describe how much the data varies from the mean and is a measure of the spread of the data.\n",
    "\n",
    "These measures can be used to describe a dataset in different ways. The mean is useful for describing the center of a dataset that is symmetric and without outliers, while the median is useful for describing the center of a dataset that is skewed or has outliers. The mode is useful for identifying the most common value in a dataset. The range provides a measure of how spread out the data is from the smallest to largest value, while the standard deviation and variance provide a measure of how much the data varies from the mean. By using these measures together, researchers can gain a more complete understanding of the characteristics of a dataset."
   ]
  },
  {
   "cell_type": "markdown",
   "id": "1887f3c8",
   "metadata": {},
   "source": [
    "### End"
   ]
  }
 ],
 "metadata": {
  "kernelspec": {
   "display_name": "Python 3 (ipykernel)",
   "language": "python",
   "name": "python3"
  },
  "language_info": {
   "codemirror_mode": {
    "name": "ipython",
    "version": 3
   },
   "file_extension": ".py",
   "mimetype": "text/x-python",
   "name": "python",
   "nbconvert_exporter": "python",
   "pygments_lexer": "ipython3",
   "version": "3.9.12"
  }
 },
 "nbformat": 4,
 "nbformat_minor": 5
}
